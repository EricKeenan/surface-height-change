{
 "cells": [
  {
   "cell_type": "markdown",
   "metadata": {},
   "source": [
    "# This notebook calculates and saves daily averages from Alpine3D output NetCDF files\n",
    "This is extremely slow (30+ miniutes)... Sorry"
   ]
  },
  {
   "cell_type": "code",
   "execution_count": 1,
   "metadata": {},
   "outputs": [],
   "source": [
    "import xarray as xr"
   ]
  },
  {
   "cell_type": "markdown",
   "metadata": {},
   "source": [
    "# Load source datasets"
   ]
  },
  {
   "cell_type": "code",
   "execution_count": null,
   "metadata": {},
   "outputs": [],
   "source": [
    "src_path = \"/scratch/summit/erke2265/PRODUCTION/*_WN/output/grids/a3d_grids_*.nc\"\n",
    "ds = xr.open_mfdataset(src_path)"
   ]
  },
  {
   "cell_type": "code",
   "execution_count": null,
   "metadata": {},
   "outputs": [],
   "source": [
    "n_trim = 15\n",
    "ds = ds.isel(easting=slice(n_trim, -n_trim))\n",
    "ds = ds.isel(northing=slice(n_trim, -n_trim))\n",
    "ds"
   ]
  },
  {
   "cell_type": "markdown",
   "metadata": {},
   "source": [
    "# Snow height"
   ]
  },
  {
   "cell_type": "code",
   "execution_count": null,
   "metadata": {},
   "outputs": [],
   "source": [
    "tgt_path = \"../data/A3D-2015-2020-daily-snd.nc\"\n",
    "snd_daily = ds['snd'].resample(time=\"1D\").mean()\n",
    "snd_daily.to_netcdf(path=tgt_path)"
   ]
  },
  {
   "cell_type": "markdown",
   "metadata": {},
   "source": [
    "# SMB"
   ]
  },
  {
   "cell_type": "code",
   "execution_count": null,
   "metadata": {},
   "outputs": [],
   "source": [
    "tgt_path = \"../data/A3D-2015-2020-daily-swe.nc\"\n",
    "swe_daily = ds['swe'].resample(time=\"1D\").mean()\n",
    "swe_daily.to_netcdf(path=tgt_path)"
   ]
  }
 ],
 "metadata": {
  "kernelspec": {
   "display_name": "alpine3d",
   "language": "python",
   "name": "alpine3d"
  },
  "language_info": {
   "codemirror_mode": {
    "name": "ipython",
    "version": 3
   },
   "file_extension": ".py",
   "mimetype": "text/x-python",
   "name": "python",
   "nbconvert_exporter": "python",
   "pygments_lexer": "ipython3",
   "version": "3.6.10"
  }
 },
 "nbformat": 4,
 "nbformat_minor": 4
}
